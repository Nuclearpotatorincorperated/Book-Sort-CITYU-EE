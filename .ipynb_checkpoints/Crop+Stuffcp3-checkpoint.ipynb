{
 "cells": [
  {
   "cell_type": "code",
<<<<<<< Updated upstream
   "execution_count": 5,
   "id": "16bda273",
   "metadata": {},
   "outputs": [
    {
     "name": "stdout",
     "output_type": "stream",
     "text": [
      "(800, 600, 3)\n",
      "(800, 600, 3)\n"
     ]
    },
    {
     "data": {
      "text/plain": [
       "0.4766498926291887"
      ]
     },
     "execution_count": 5,
     "metadata": {},
     "output_type": "execute_result"
    }
   ],
=======
   "execution_count": 4,
   "id": "9f4abb5b",
   "metadata": {},
   "outputs": [],
>>>>>>> Stashed changes
   "source": [
    "# import the necessary packages\n",
    "from skimage.metrics import structural_similarity as ssim\n",
    "import numpy as np\n",
    "import cv2\n",
    "from PIL import Image\n",
    "\n",
    "def resize(filename):\n",
    "    img = Image.open(filename+'.jpg')\n",
    "    img = img.resize((100,148))\n",
    "    img.save(filename + '.jpg')\n",
    "    x = np.array(img)\n",
<<<<<<< Updated upstream
    "    print(x.shape)\n",
    "def resize(filename):\n",
    "    img = Image.open(filename+'.jpg')\n",
    "    img = img.resize((600,800))\n",
    "    img.save(filename + '.jpg')\n",
    "    x = np.array(img)\n",
    "    print(x.shape)\n",
=======
>>>>>>> Stashed changes
    "resize('coverphoto')\n",
    "resize('coverphotoused')\n",
    "\n",
    "\n",
    "def grayscale(filename):\n",
    "    img_rgb = Image.open(filename+'.jpg')\n",
    "    img_gray = img_rgb.convert('L')\n",
    "    img_gray.save(filename+'g.jpg')\n",
    "grayscale('coverphoto')\n",
    "grayscale('coverphotoused')\n",
<<<<<<< Updated upstream
=======
    "\n",
>>>>>>> Stashed changes
    "gi1 = cv2.imread(\"coverphotog.jpg\")\n",
    "gi2 = cv2.imread(\"coverphotousedg.jpg\")\n",
    "ssim(gi1, gi2, channel_axis=2)"
   ]
  },
  {
   "cell_type": "code",
<<<<<<< Updated upstream
   "execution_count": 6,
   "id": "b385012c",
   "metadata": {},
   "outputs": [
    {
     "data": {
      "image/png": "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\n",
      "text/plain": [
       "<Figure size 432x288 with 1 Axes>"
      ]
     },
     "metadata": {
      "needs_background": "light"
     },
     "output_type": "display_data"
    },
    {
     "data": {
      "text/plain": [
       "(<matplotlib.image.AxesImage at 0x224906cd580>, None)"
      ]
     },
     "execution_count": 6,
     "metadata": {},
     "output_type": "execute_result"
    }
   ],
   "source": [
    "\n",
    "# import the required library\n",
    "import numpy as np\n",
    "import cv2\n",
    "from matplotlib import pyplot as plt\n",
    "  \n",
    "# read the image\n",
    "img = cv2.imread('corner1.png')\n",
    "  \n",
    "# convert image to gray scale image\n",
    "gray = cv2.cvtColor(img, cv2.COLOR_RGB2GRAY)\n",
    "  \n",
    "# detect corners with the goodFeaturesToTrack function.\n",
    "corners = cv2.goodFeaturesToTrack(gray, 27, 0.01, 10)\n",
    "corners = np.int0(corners)\n",
    "  \n",
    "# we iterate through each corner, \n",
    "# making a circle at each point that we think is a corner.\n",
    "for i in corners:\n",
    "    x, y = i.ravel()\n",
    "    cv2.circle(img, (x, y), 3, 255, -1)\n",
    "plt.imshow(img), plt.show()"
   ]
  },
  {
   "cell_type": "code",
   "execution_count": 43,
   "id": "43ce1306",
   "metadata": {},
=======
   "execution_count": 28,
   "id": "01129677",
   "metadata": {
    "scrolled": true
   },
>>>>>>> Stashed changes
   "outputs": [],
   "source": [
    "\n",
    "import cv2\n",
    "grayscale('image2')\n",
    "# read the image\n",
    "image1 = cv2.imread('image2g.jpg')\n",
    "img_gray1 = cv2.cvtColor(image1, cv2.COLOR_BGR2GRAY)\n",
    " \n",
    "ret, thresh1 = cv2.threshold(img_gray1, 150, 255, cv2.THRESH_BINARY)\n",
    "contours2, hierarchy2 = cv2.findContours(thresh1, cv2.RETR_TREE,\n",
    "                                               cv2.CHAIN_APPROX_SIMPLE)\n",
    "image_copy2 = image1.copy()\n",
    "cv2.drawContours(image_copy2, contours2, -1, (0, 255, 0), 2, cv2.LINE_AA)\n",
    "cv2.imshow('SIMPLE Approximation contours', image_copy2)\n",
    "cv2.waitKey(0)\n",
    "image_copy3 = image1.copy()\n",
    "for i, contour in enumerate(contours2): # loop over one contour area\n",
    "   for j, contour_point in enumerate(contour): # loop over the points\n",
    "       # draw a circle on the current contour coordinate\n",
    "       cv2.circle(image_copy3, ((contour_point[0][0], contour_point[0][1])), 2, (0, 255, 0), 2, cv2.LINE_AA)\n",
    "\n",
    "cv2.destroyAllWindows()\n"
   ]
  },
  {
   "cell_type": "code",
   "execution_count": 44,
   "id": "0d6d34a4",
   "metadata": {},
   "outputs": [
    {
     "name": "stdout",
     "output_type": "stream",
     "text": [
      "EXTERNAL: [[[-1 -1 -1 -1]]]\n"
     ]
    }
   ],
   "source": [
    "\"\"\"\n",
    "Contour detection and drawing using different extraction modes to complement\n",
    "the understanding of hierarchies\n",
    "\"\"\"\n",
    "image2 = cv2.imread('image2.jpg')\n",
    "img_gray2 = cv2.cvtColor(image2, cv2.COLOR_BGR2GRAY)\n",
    "ret, thresh2 = cv2.threshold(img_gray2, 150, 255, cv2.THRESH_BINARY)\n",
    "\t\n",
    "contours4, hierarchy4 = cv2.findContours(thresh2, cv2.RETR_EXTERNAL, cv2.CHAIN_APPROX_NONE)\n",
    "image_copy5 = image2.copy()\n",
    "cv2.drawContours(image_copy5, contours4, -1, (0, 255, 0), 2, cv2.LINE_AA)\n",
    "# see the results\n",
    "cv2.imshow('EXTERNAL', image_copy5)\n",
    "print(f\"EXTERNAL: {hierarchy4}\")\n",
    "cv2.waitKey(0)\n",
    "cv2.imwrite('contours_retr_external.jpg', image_copy5)\n",
    "cv2.destroyAllWindows()"
   ]
  },
  {
   "cell_type": "code",
   "execution_count": 9,
   "id": "f17da58c",
   "metadata": {},
   "outputs": [],
   "source": [
    "import cv2\n",
    "\n",
    "image= cv2.imread('image2.jpg')\n",
    "original_image= image\n",
    "\n",
    "gray= cv2.cvtColor(image,cv2.COLOR_BGR2GRAY)\n",
    "\n",
    "edges= cv2.Canny(gray, 50,200)\n",
    "\n",
    "\n",
    "contours, hierarchy= cv2.findContours(edges.copy(), cv2.RETR_EXTERNAL, cv2.CHAIN_APPROX_NONE)\n",
    "\n",
    "\n",
    "sorted_contours= sorted(contours, key=cv2.contourArea, reverse= True)\n",
    "\n",
    "\n",
    "\n",
    "for (i,c) in enumerate(sorted_contours):\n",
    "    x,y,w,h= cv2.boundingRect(c)\n",
    "    \n",
    "    cropped_contour= original_image[y:y+h, x:x+w]\n",
    "    image_name= \"coverphotoused.jpg\"\n",
    "    cv2.imwrite(image_name, cropped_contour)\n",
    "    readimage= cv2.imread(image_name)\n",
    "    cv2.imshow('Image', readimage)\n",
    "    cv2.waitKey(0)\n",
    "    \n",
    "cv2.destroyAllWindows()"
   ]
  },
  {
   "cell_type": "code",
   "execution_count": 42,
   "id": "8598d554",
   "metadata": {},
   "outputs": [],
   "source": [
    "# import the required library\n",
    "import cv2\n",
    "\n",
    "# read the input image\n",
    "image = cv2.imread('image1.jpg')\n",
    "\n",
    "# define the alpha and beta\n",
    "alpha = 2 # Contrast control\n",
    "beta = 10 # Brightness control\n",
    "\n",
    "# call convertScaleAbs function\n",
    "adjusted = cv2.convertScaleAbs(image, alpha=alpha, beta=beta)\n",
    "\n",
    "# display the output image\n",
    "cv2.imshow('adjusted', adjusted)\n",
    "cv2.imwrite('image2.jpg', adjusted)\n",
    "cv2.waitKey()\n",
    "cv2.destroyAllWindows()\n"
   ]
  }
 ],
 "metadata": {
  "kernelspec": {
   "display_name": "Python 3 (ipykernel)",
   "language": "python",
   "name": "python3"
  },
  "language_info": {
   "codemirror_mode": {
    "name": "ipython",
    "version": 3
   },
   "file_extension": ".py",
   "mimetype": "text/x-python",
   "name": "python",
   "nbconvert_exporter": "python",
   "pygments_lexer": "ipython3",
   "version": "3.9.12"
  }
 },
 "nbformat": 4,
 "nbformat_minor": 5
}
