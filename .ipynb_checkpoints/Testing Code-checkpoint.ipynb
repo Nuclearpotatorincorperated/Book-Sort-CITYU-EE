{
 "cells": [
  {
   "cell_type": "code",
   "execution_count": null,
   "id": "e800d928",
   "metadata": {},
   "outputs": [],
   "source": [
    "import matplotlib.pyplot as plt\n",
    "from skimage import io, exposure, data\n",
    "from PIL import Image\n",
    "from matplotlib.image import imread\n",
    "def contrast(filename):\n",
    "    image = io.imread(filename + \"line.jpg\")\n",
    "    image_minmax_scaled = exposure.rescale_intensity(image)\n",
    "    image2 = np.where(image_minmax_scaled>100,255,0).astype(np.uint8)\n",
    "    plt.axis('off')\n",
    "    plt.imsave(filename + 'line' + '.jpg', image2)\n",
    "contrast('coverphoto')\n",
    "contrast('coverphotoused')"
   ]
  }
 ],
 "metadata": {
  "kernelspec": {
   "display_name": "Python 3 (ipykernel)",
   "language": "python",
   "name": "python3"
  },
  "language_info": {
   "codemirror_mode": {
    "name": "ipython",
    "version": 3
   },
   "file_extension": ".py",
   "mimetype": "text/x-python",
   "name": "python",
   "nbconvert_exporter": "python",
   "pygments_lexer": "ipython3",
   "version": "3.9.7"
  }
 },
 "nbformat": 4,
 "nbformat_minor": 5
}
