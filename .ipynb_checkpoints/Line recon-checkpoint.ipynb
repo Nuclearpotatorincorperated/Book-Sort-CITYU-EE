{
 "cells": [
  {
   "cell_type": "code",
   "execution_count": 180,
   "id": "4f53aa4a",
   "metadata": {},
   "outputs": [
    {
     "name": "stdout",
     "output_type": "stream",
     "text": [
      "25.02\n"
     ]
    }
   ],
   "source": [
    "from scipy.signal import convolve2d\n",
    "from matplotlib import pyplot as plt\n",
    "import numpy as np\n",
    "import cv2\n",
    "from PIL import Image\n",
    "from numpy import asarray\n",
    "%matplotlib inline\n",
    "\n",
    "def lineg(filename):\n",
    "    original_img = Image.open(filename + '.jpg').convert('L')\n",
    "    original_img = np.array(original_img)\n",
    "    original_img = original_img/255\n",
    "    fil = np.array([[0,-1,0],[-1,4,-1],[0,-1,0]])\n",
    "    fmap2 = convolve2d(original_img,fil,mode='same')\n",
    "    plt.axis('off')\n",
    "    plt.imsave(filename + 'line' + '.jpg', fmap2, cmap='gray')\n",
    "    plt.close()\n",
    "    image_path = filename + 'line' + '.jpg'\n",
    "    image_file = Image.open(image_path)\n",
    "    image_file.save(filename + 'line' + '.jpg', quality=95)\n",
    "def testimg(n1, n2):\n",
    "    img1 = Image.open(n1 + 'line.jpg')\n",
    "    image1 = asarray(img1)\n",
    "    img2 = Image.open(n2 + 'line.jpg')\n",
    "    image2 = asarray(img2)\n",
    "    diff = np.absolute(np.subtract(image1, image2))\n",
    "    imgdiff = Image.fromarray(diff)\n",
    "    imgdiff.save('diff.jpg')\n",
    "    return round(np.average(diff))/6.25+17.5\n",
    "def checkimg(coverphoto = 'coverphoto', nia='nia.jpg'):\n",
    "    coverimg = Image.open(coverphoto + '.jpg')\n",
    "    niaimg = Image.open(nia)\n",
    "    cover = asarray(coverimg)\n",
    "    noimageava = asarray(niaimg)\n",
    "    if cover.all() == noimageava.all():\n",
    "        return False\n",
    "    return True\n",
    "    \n",
    "lineg('coverphoto')\n",
    "lineg('coverphotoused')\n",
    "if checkimg():\n",
    "    pc = testimg('coverphoto', 'coverphotoused')\n",
    "    print(pc)"
   ]
  },
  {
   "cell_type": "code",
   "execution_count": null,
   "id": "9baa6c6b",
   "metadata": {},
   "outputs": [],
   "source": []
  }
 ],
 "metadata": {
  "kernelspec": {
   "display_name": "Python 3 (ipykernel)",
   "language": "python",
   "name": "python3"
  },
  "language_info": {
   "codemirror_mode": {
    "name": "ipython",
    "version": 3
   },
   "file_extension": ".py",
   "mimetype": "text/x-python",
   "name": "python",
   "nbconvert_exporter": "python",
   "pygments_lexer": "ipython3",
   "version": "3.9.7"
  }
 },
 "nbformat": 4,
 "nbformat_minor": 5
}
