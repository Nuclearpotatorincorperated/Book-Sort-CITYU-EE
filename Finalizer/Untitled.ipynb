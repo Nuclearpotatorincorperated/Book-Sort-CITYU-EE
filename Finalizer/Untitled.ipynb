{
 "cells": [
  {
   "cell_type": "markdown",
   "id": "5bc70859",
   "metadata": {},
   "source": [
    "# Initializing"
   ]
  },
  {
   "cell_type": "code",
   "execution_count": 45,
   "id": "f825f98b",
   "metadata": {},
   "outputs": [],
   "source": [
    "from scipy.signal import convolve2d\n",
    "from matplotlib import pyplot as plt\n",
    "import numpy as np\n",
    "import cv2\n",
    "from PIL import Image\n",
    "from numpy import asarray\n",
    "from pyperclip import copy\n",
    "from pyzbar.pyzbar import decode\n",
    "import urllib.request\n",
    "import requests\n",
    "from skimage.metrics import structural_similarity as ssim\n",
    "%matplotlib inline"
   ]
  },
  {
   "cell_type": "code",
   "execution_count": 46,
   "id": "2c95865d",
   "metadata": {},
   "outputs": [],
   "source": [
    "def BarcodeReader(image):\n",
    "    img = cv2.imread(image)\n",
    "    detectedBarcodes = decode(img)\n",
    "    if not detectedBarcodes:\n",
    "        print(\"Barcode Not Detected or your barcode is blank/corrupted!\")\n",
    "    else:\n",
    "        for barcode in detectedBarcodes: \n",
    "            (x, y, w, h) = barcode.rect\n",
    "            cv2.rectangle(img, (x-10, y-10),\n",
    "                          (x + w+10, y + h+10),\n",
    "                          (255, 0, 0), 2)\n",
    "            if barcode.data!=\"\":\n",
    "                return str(int(barcode.data))\n",
    "                 \n",
    "def ISBNcover(isbn):\n",
    "    return'https://d1w7fb2mkkr3kw.cloudfront.net/assets/images/book/lrg/' + str(int(isbn))[:4] + '/' + str(int(isbn))[4:8] + '/' + str(int(isbn)) + '.jpg'\n",
    "\n",
    "def save(weblink):\n",
    "    urllib.request.urlretrieve(weblink, \"coverphoto.jpg\")\n",
    "\n",
    "def pricegenerator(isbn):\n",
    "    page = requests.get('https://www.bookdepository.com/search/' + str(isbn))\n",
    "    htmlcode1 = str(page.text)\n",
    "    start = htmlcode1.find('<p class=\"list-price\">')\n",
    "    htmlcode2 = htmlcode1[start+22:].strip()[15:].strip()\n",
    "    end = htmlcode2.find('</p>')\n",
    "    htmlcodesnippet = htmlcode2[:end]\n",
    "    return htmlcodesnippet"
   ]
  },
  {
   "cell_type": "code",
   "execution_count": 55,
   "id": "9bec759c",
   "metadata": {},
   "outputs": [],
   "source": [
    "from skimage.metrics import structural_similarity as ssim\n",
    "import numpy as np\n",
    "import cv2\n",
    "from PIL import Image\n",
    "def crop(image='coverphotoused',alpha= 2):\n",
    "    image = cv2.imread(image + '.jpg')\n",
    "    beta = 10\n",
    "    adjusted = cv2.convertScaleAbs(image, alpha=alpha, beta=beta)\n",
    "    cv2.imwrite('coverphotousedl.jpg', adjusted)\n",
    "    image= cv2.imread('coverphotousedl.jpg')\n",
    "    original_image= image\n",
    "    gray= cv2.cvtColor(image,cv2.COLOR_BGR2GRAY)\n",
    "    edges= cv2.Canny(gray, 50,200)\n",
    "    contours, hierarchy= cv2.findContours(edges.copy(), cv2.RETR_EXTERNAL, cv2.CHAIN_APPROX_NONE)\n",
    "    sorted_contours= sorted(contours, key=cv2.contourArea, reverse= True)\n",
    "    for (i,c) in enumerate(sorted_contours):\n",
    "        x,y,w,h= cv2.boundingRect(c)\n",
    "        cropped_contour= original_image[y:y+h, x:x+w]\n",
    "        image_name= \"coverphotousedc.jpg\"\n",
    "        cv2.imwrite(image_name, cropped_contour)\n",
    "        readimage= cv2.imread(image_name)\n",
    "def resize(filename):\n",
    "    img = Image.open(filename+'.jpg')\n",
    "    img = img.resize((100,148))\n",
    "    img.save(filename + '.jpg')\n",
    "\n",
    "def grayscale(filename):\n",
    "    img_rgb = Image.open(filename+'.jpg')\n",
    "    img_gray = img_rgb.convert('L')\n",
    "    img_gray.save(filename+'g.jpg')\n",
    "def runcropscale(image = 'coverphotoused'):\n",
    "    crop(image)\n",
    "    resize('coverphoto')\n",
    "    resize('coverphotousedc')\n",
    "    grayscale('coverphoto')\n",
    "    grayscale('coverphotousedc')\n",
    "    gi1 = cv2.imread(\"coverphotog.jpg\")\n",
    "    gi2 = cv2.imread(\"coverphotousedcg.jpg\")\n",
    "    return ssim(gi1, gi2, channel_axis=2)"
   ]
  },
  {
   "cell_type": "code",
   "execution_count": 48,
   "id": "fef1a874",
   "metadata": {},
   "outputs": [],
   "source": [
    "def checkimg(coverphoto = 'coverphoto', nia='nia.jpg'):\n",
    "    coverimg = Image.open(coverphoto + '.jpg')\n",
    "    niaimg = Image.open(nia)\n",
    "    cover = asarray(coverimg)\n",
    "    noimageava = asarray(niaimg)\n",
    "    if cover.all() == noimageava.all():\n",
    "        return False\n",
    "    return True\n",
    "\n",
    "def pricetag(pc,price):\n",
    "    override = input(f'Automatic price generated: {price} \\n Manual Override T/F ')\n",
    "    if override.lower() == 't':\n",
    "        price = input('New price: ')\n",
    "    else:\n",
    "        price = str(price * pc)\n",
    "    copy(price)\n",
    "    return price"
   ]
  },
  {
   "cell_type": "code",
   "execution_count": 49,
   "id": "5a9411d7",
   "metadata": {},
   "outputs": [],
   "source": [
    "def full(used = 'coverphotoused', barcode = 'bb', testing = False):\n",
    "    if not testing:\n",
    "        save(ISBNcover(BarcodeReader('bb.jpg')))\n",
    "    price = pricegenerator(BarcodeReader('bb.jpg'))\n",
    "    if not checkimg():\n",
    "        return 'Not avaliable'\n",
    "    pc = float(runcropscale(used))\n",
    "    if testing:\n",
    "        print(pc)\n",
    "    pricetag(int(pc), price)\n"
   ]
  },
  {
   "cell_type": "code",
   "execution_count": 53,
   "id": "4aaccb43",
   "metadata": {
    "scrolled": true
   },
   "outputs": [],
   "source": [
    "save(ISBNcover('9781409329800'))"
   ]
  },
  {
   "cell_type": "code",
   "execution_count": 54,
   "id": "9f3267c6",
   "metadata": {},
   "outputs": [
    {
     "name": "stdout",
     "output_type": "stream",
     "text": [
      "0.07840083813158158\n",
      "Automatic price generated: 117.56 \n",
      " Manual Override T/F f\n"
     ]
    }
   ],
   "source": [
    "full(testing = True)"
   ]
  },
  {
   "cell_type": "code",
   "execution_count": null,
   "id": "ddd94f2d",
   "metadata": {},
   "outputs": [],
   "source": []
  }
 ],
 "metadata": {
  "kernelspec": {
   "display_name": "Python 3 (ipykernel)",
   "language": "python",
   "name": "python3"
  },
  "language_info": {
   "codemirror_mode": {
    "name": "ipython",
    "version": 3
   },
   "file_extension": ".py",
   "mimetype": "text/x-python",
   "name": "python",
   "nbconvert_exporter": "python",
   "pygments_lexer": "ipython3",
   "version": "3.9.12"
  }
 },
 "nbformat": 4,
 "nbformat_minor": 5
}
