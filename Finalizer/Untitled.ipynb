{
 "cells": [
  {
   "cell_type": "markdown",
   "id": "5bc70859",
   "metadata": {},
   "source": [
    "# Initializing"
   ]
  },
  {
   "cell_type": "code",
   "execution_count": 1,
   "id": "f825f98b",
   "metadata": {},
   "outputs": [],
   "source": [
    "from scipy.signal import convolve2d\n",
    "from matplotlib import pyplot as plt\n",
    "import numpy as np\n",
    "import cv2\n",
    "from PIL import Image\n",
    "from numpy import asarray\n",
    "from pyperclip import copy\n",
    "from pyzbar.pyzbar import decode\n",
    "import urllib.request\n",
    "import requests\n",
    "%matplotlib inline"
   ]
  },
  {
   "cell_type": "code",
   "execution_count": 7,
   "id": "fef1a874",
   "metadata": {},
   "outputs": [],
   "source": [
    "def BarcodeReader(image):\n",
    "    img = cv2.imread(image)\n",
    "    detectedBarcodes = decode(img)\n",
    "    if not detectedBarcodes:\n",
    "        print(\"Barcode Not Detected or your barcode is blank/corrupted!\")\n",
    "    else:\n",
    "        for barcode in detectedBarcodes: \n",
    "            (x, y, w, h) = barcode.rect\n",
    "            cv2.rectangle(img, (x-10, y-10),\n",
    "                          (x + w+10, y + h+10),\n",
    "                          (255, 0, 0), 2)\n",
    "            if barcode.data!=\"\":\n",
    "                return str(int(barcode.data))\n",
    "                 \n",
    "def ISBNcover(isbn):\n",
    "    return'https://d1w7fb2mkkr3kw.cloudfront.net/assets/images/book/lrg/' + str(int(isbn))[:4] + '/' + str(int(isbn))[4:8] + '/' + str(int(isbn)) + '.jpg'\n",
    "\n",
    "def save(weblink):\n",
    "    urllib.request.urlretrieve(weblink, \"coverphoto.jpg\")\n",
    "\n",
    "def pricegenerator(isbn):\n",
    "    page = requests.get('https://www.bookdepository.com/search/' + str(isbn))\n",
    "    htmlcode1 = str(page.text)\n",
    "    start = htmlcode1.find('<p class=\"list-price\">')\n",
    "    htmlcode2 = htmlcode1[start+22:].strip()[15:].strip()\n",
    "    end = htmlcode2.find('</p>')\n",
    "    htmlcodesnippet = htmlcode2[:end]\n",
    "    return htmlcodesnippet\n",
    "\n",
    "def lineg(filename):\n",
    "    original_img = Image.open(filename + '.jpg').convert('L')\n",
    "    original_img = np.array(original_img)\n",
    "    original_img = original_img/255\n",
    "    fil = np.array([[0,-1,0],[-1,4,-1],[0,-1,0]])\n",
    "    fmap2 = convolve2d(original_img,fil,mode='same')\n",
    "    plt.axis('off')\n",
    "    plt.imsave(filename + 'line' + '.jpg', fmap2, cmap='gray')\n",
    "    plt.close()\n",
    "    image_path = filename + 'line' + '.jpg'\n",
    "    image_file = Image.open(image_path)\n",
    "    image_file.save(filename + 'line' + '.jpg', quality=95)\n",
    "def testimg(n1='coverphoto', n2='coverphotoused'):\n",
    "    img1 = Image.open(n1 + 'line.jpg')\n",
    "    image1 = asarray(img1)\n",
    "    img2 = Image.open(n2 + 'line.jpg')\n",
    "    image2 = asarray(img2)\n",
    "    diff = np.absolute(np.subtract(image1, image2))\n",
    "    imgdiff = Image.fromarray(diff)\n",
    "    imgdiff.save('diff.jpg')\n",
    "    return round(np.average(diff))/6.25+17.5\n",
    "def checkimg(coverphoto = 'coverphoto', nia='nia.jpg'):\n",
    "    coverimg = Image.open(coverphoto + '.jpg')\n",
    "    niaimg = Image.open(nia)\n",
    "    cover = asarray(coverimg)\n",
    "    noimageava = asarray(niaimg)\n",
    "    if cover.all() == noimageava.all():\n",
    "        return False\n",
    "    return True\n",
    "\n",
    "def pricetag(pc,price):\n",
    "    override = input(f'Automatic price generated: {price} \\n Manual Override T/F ')\n",
    "    if override.lower() == 't':\n",
    "        price = input('New price: ')\n",
    "    else:\n",
    "        price = str(price * pc)\n",
    "    copy(price)\n",
    "    return price"
   ]
  },
  {
   "cell_type": "code",
   "execution_count": 9,
   "id": "5a9411d7",
   "metadata": {},
   "outputs": [],
   "source": [
    "def full(used = 'coverphotoused', barcode = 'bb'):\n",
    "    save(ISBNcover(BarcodeReader('bb.jpg')))\n",
    "    price = pricegenerator(BarcodeReader('bb.jpg'))\n",
    "    if not checkimg():\n",
    "        return 'Not avaliable'\n",
    "    lineg('coverphoto')\n",
    "    lineg('coverphotoused')\n",
    "    pc = testimg()\n",
    "    pricetag(pc, price)\n"
   ]
  },
  {
   "cell_type": "code",
   "execution_count": 12,
   "id": "4aaccb43",
   "metadata": {},
   "outputs": [
    {
     "ename": "ValueError",
     "evalue": "operands could not be broadcast together with shapes (400,267,3) (718,479,3) ",
     "output_type": "error",
     "traceback": [
      "\u001b[1;31m---------------------------------------------------------------------------\u001b[0m",
      "\u001b[1;31mValueError\u001b[0m                                Traceback (most recent call last)",
      "\u001b[1;32mC:\\Users\\ADMINI~1\\AppData\\Local\\Temp/ipykernel_19608/1799534799.py\u001b[0m in \u001b[0;36m<module>\u001b[1;34m\u001b[0m\n\u001b[1;32m----> 1\u001b[1;33m \u001b[0mfull\u001b[0m\u001b[1;33m(\u001b[0m\u001b[1;33m)\u001b[0m\u001b[1;33m\u001b[0m\u001b[1;33m\u001b[0m\u001b[0m\n\u001b[0m",
      "\u001b[1;32mC:\\Users\\ADMINI~1\\AppData\\Local\\Temp/ipykernel_19608/529059770.py\u001b[0m in \u001b[0;36mfull\u001b[1;34m(used, barcode)\u001b[0m\n\u001b[0;32m      6\u001b[0m     \u001b[0mlineg\u001b[0m\u001b[1;33m(\u001b[0m\u001b[1;34m'coverphoto'\u001b[0m\u001b[1;33m)\u001b[0m\u001b[1;33m\u001b[0m\u001b[1;33m\u001b[0m\u001b[0m\n\u001b[0;32m      7\u001b[0m     \u001b[0mlineg\u001b[0m\u001b[1;33m(\u001b[0m\u001b[1;34m'coverphotoused'\u001b[0m\u001b[1;33m)\u001b[0m\u001b[1;33m\u001b[0m\u001b[1;33m\u001b[0m\u001b[0m\n\u001b[1;32m----> 8\u001b[1;33m     \u001b[0mpc\u001b[0m \u001b[1;33m=\u001b[0m \u001b[0mtestimg\u001b[0m\u001b[1;33m(\u001b[0m\u001b[1;33m)\u001b[0m\u001b[1;33m\u001b[0m\u001b[1;33m\u001b[0m\u001b[0m\n\u001b[0m\u001b[0;32m      9\u001b[0m     \u001b[0mpricetag\u001b[0m\u001b[1;33m(\u001b[0m\u001b[0mpc\u001b[0m\u001b[1;33m,\u001b[0m \u001b[0mprice\u001b[0m\u001b[1;33m)\u001b[0m\u001b[1;33m\u001b[0m\u001b[1;33m\u001b[0m\u001b[0m\n",
      "\u001b[1;32mC:\\Users\\ADMINI~1\\AppData\\Local\\Temp/ipykernel_19608/1313168085.py\u001b[0m in \u001b[0;36mtestimg\u001b[1;34m(n1, n2)\u001b[0m\n\u001b[0;32m     45\u001b[0m     \u001b[0mimg2\u001b[0m \u001b[1;33m=\u001b[0m \u001b[0mImage\u001b[0m\u001b[1;33m.\u001b[0m\u001b[0mopen\u001b[0m\u001b[1;33m(\u001b[0m\u001b[0mn2\u001b[0m \u001b[1;33m+\u001b[0m \u001b[1;34m'line.jpg'\u001b[0m\u001b[1;33m)\u001b[0m\u001b[1;33m\u001b[0m\u001b[1;33m\u001b[0m\u001b[0m\n\u001b[0;32m     46\u001b[0m     \u001b[0mimage2\u001b[0m \u001b[1;33m=\u001b[0m \u001b[0masarray\u001b[0m\u001b[1;33m(\u001b[0m\u001b[0mimg2\u001b[0m\u001b[1;33m)\u001b[0m\u001b[1;33m\u001b[0m\u001b[1;33m\u001b[0m\u001b[0m\n\u001b[1;32m---> 47\u001b[1;33m     \u001b[0mdiff\u001b[0m \u001b[1;33m=\u001b[0m \u001b[0mnp\u001b[0m\u001b[1;33m.\u001b[0m\u001b[0mabsolute\u001b[0m\u001b[1;33m(\u001b[0m\u001b[0mnp\u001b[0m\u001b[1;33m.\u001b[0m\u001b[0msubtract\u001b[0m\u001b[1;33m(\u001b[0m\u001b[0mimage1\u001b[0m\u001b[1;33m,\u001b[0m \u001b[0mimage2\u001b[0m\u001b[1;33m)\u001b[0m\u001b[1;33m)\u001b[0m\u001b[1;33m\u001b[0m\u001b[1;33m\u001b[0m\u001b[0m\n\u001b[0m\u001b[0;32m     48\u001b[0m     \u001b[0mimgdiff\u001b[0m \u001b[1;33m=\u001b[0m \u001b[0mImage\u001b[0m\u001b[1;33m.\u001b[0m\u001b[0mfromarray\u001b[0m\u001b[1;33m(\u001b[0m\u001b[0mdiff\u001b[0m\u001b[1;33m)\u001b[0m\u001b[1;33m\u001b[0m\u001b[1;33m\u001b[0m\u001b[0m\n\u001b[0;32m     49\u001b[0m     \u001b[0mimgdiff\u001b[0m\u001b[1;33m.\u001b[0m\u001b[0msave\u001b[0m\u001b[1;33m(\u001b[0m\u001b[1;34m'diff.jpg'\u001b[0m\u001b[1;33m)\u001b[0m\u001b[1;33m\u001b[0m\u001b[1;33m\u001b[0m\u001b[0m\n",
      "\u001b[1;31mValueError\u001b[0m: operands could not be broadcast together with shapes (400,267,3) (718,479,3) "
     ]
    }
   ],
   "source": [
    "full()"
   ]
  }
 ],
 "metadata": {
  "kernelspec": {
   "display_name": "Python 3 (ipykernel)",
   "language": "python",
   "name": "python3"
  },
  "language_info": {
   "codemirror_mode": {
    "name": "ipython",
    "version": 3
   },
   "file_extension": ".py",
   "mimetype": "text/x-python",
   "name": "python",
   "nbconvert_exporter": "python",
   "pygments_lexer": "ipython3",
   "version": "3.9.7"
  }
 },
 "nbformat": 4,
 "nbformat_minor": 5
}
