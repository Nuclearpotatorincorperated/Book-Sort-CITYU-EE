{
 "cells": [
  {
   "cell_type": "code",
   "execution_count": 1,
   "id": "4f53aa4a",
   "metadata": {},
   "outputs": [
    {
     "name": "stdout",
     "output_type": "stream",
     "text": [
      "IMG NAME: bg\n"
     ]
    },
    {
     "data": {
      "image/png": "[encoded data removed]",
      "text/plain": [
       "<Figure size 432x288 with 1 Axes>"
      ]
     },
     "metadata": {
      "needs_background": "light"
     },
     "output_type": "display_data"
    }
   ],
   "source": [
    "from scipy.signal import convolve2d\n",
    "from matplotlib import pyplot as plt\n",
    "import numpy as np\n",
    "import cv2\n",
    "from PIL import Image\n",
    "\n",
    "%matplotlib inline\n",
    "\n",
    "\n",
    "filename = input('IMG NAME: ')\n",
    "original_img = Image.open('Line generation imgs/' + filename + '.jpg').convert('L')\n",
    "original_img = np.array(original_img)\n",
    "original_img = original_img/255\n",
    "fil = np.array([[0,-1,0],[-1,4,-1],[0,-1,0]])\n",
    "fmap2 = convolve2d(original_img,fil,mode='same')\n",
    "plt.axis('off')\n",
    "plt.imsave('Line generation imgs/' + filename + 'output' + '.jpg', fmap2, cmap='gray')\n",
    "\n",
    "\n",
    "\n",
    "\n",
    "import numpy as np\n",
    "from PIL import Image\n",
    "\n",
    "# Open the input image as numpy array, convert to greyscale and drop alpha\n",
    "npImage=np.array(Image.open('Line generation imgs/' + filename + 'output' + '.jpg').convert(\"L\"))\n",
    "\n",
    "# Get brightness range - i.e. darkest and lightest pixels\n",
    "min=np.min(npImage)        # result=144\n",
    "max=np.max(npImage)        # result=216\n",
    "\n",
    "# Make a LUT (Look-Up Table) to translate image values\n",
    "LUT=np.zeros(256,dtype=np.uint8)\n",
    "LUT[min:max+1]=np.linspace(start=0,stop=255,num=(max-min)+1,endpoint=True,dtype=np.uint8)\n",
    "\n",
    "# Apply LUT and save resulting image\n",
    "Image.fromarray(LUT[npImage]).save('result.png')\n",
    "\n",
    "\n",
    "\n",
    "\n",
    "# Import required libraries\n",
    "from tkinter import *\n",
    "from PIL import ImageTk, Image\n",
    "\n",
    "# Create an instance of tkinter window\n",
    "win = Tk()\n",
    "\n",
    "# Define the geometry of the window\n",
    "win.geometry(\"700x500\")\n",
    "\n",
    "frame = Frame(win, width=600, height=400)\n",
    "frame.pack()\n",
    "frame.place(anchor='center', relx=0.5, rely=0.5)\n",
    "\n",
    "# Create an object of tkinter ImageTk\n",
    "img = ImageTk.PhotoImage(Image.open('Line generation imgs/' + filename + 'output' + '.jpg'))\n",
    "img2 = ImageTk.PhotoImage(Image.open('Line generation imgs/' + filename + '.jpg'))\n",
    "# Create a Label Widget to display the text or Image\n",
    "label = Label(frame, image = img)\n",
    "label.grid(column=0,row=0)\n",
    "label2 = Label(frame, image = img2)\n",
    "label2.grid(column=1,row=0)\n",
    "win.mainloop()"
   ]
  },
  {
   "cell_type": "markdown",
   "id": "e06dcd27",
   "metadata": {},
   "source": []
  }
 ],
 "metadata": {
  "kernelspec": {
   "display_name": "Python 3 (ipykernel)",
   "language": "python",
   "name": "python3"
  },
  "language_info": {
   "codemirror_mode": {
    "name": "ipython",
    "version": 3
   },
   "file_extension": ".py",
   "mimetype": "text/x-python",
   "name": "python",
   "nbconvert_exporter": "python",
   "pygments_lexer": "ipython3",
   "version": "3.9.12"
  }
 },
 "nbformat": 4,
 "nbformat_minor": 5
}
