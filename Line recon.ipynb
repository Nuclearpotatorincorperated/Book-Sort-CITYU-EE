{
 "cells": [
  {
   "cell_type": "code",
   "execution_count": 158,
   "id": "4f53aa4a",
   "metadata": {},
   "outputs": [],
   "source": [
    "from scipy.signal import convolve2d\n",
    "from matplotlib import pyplot as plt\n",
    "import numpy as np\n",
    "import cv2\n",
    "from PIL import Image\n",
    "from numpy import asarray\n",
    "%matplotlib inline\n",
    "\n",
    "def lineg(filename):\n",
    "    original_img = Image.open(filename + '.jpg').convert('L')\n",
    "    original_img = np.array(original_img)\n",
    "    original_img = original_img/255\n",
    "    fil = np.array([[0,-1,0],[-1,4,-1],[0,-1,0]])\n",
    "    fmap2 = convolve2d(original_img,fil,mode='same')\n",
    "    plt.axis('off')\n",
    "    plt.imsave(filename + 'line' + '.jpg', fmap2, cmap='gray')\n",
    "    plt.close()\n",
    "    image_path = filename + 'line' + '.jpg'\n",
    "    image_file = Image.open(image_path)\n",
    "    image_file.save(filename + 'line' + '.jpg', quality=95)\n",
    "def testimg(n1, n2):\n",
    "    img1 = Image.open(n1 + 'line.jpg')\n",
    "    image1 = asarray(img1)\n",
    "    img2 = Image.open(n2 + 'line.jpg')\n",
    "    image2 = asarray(img2)\n",
    "    diff = np.absolute(np.subtract(image1, image2))\n",
    "    imgdiff = Image.fromarray(diff)\n",
    "    imgdiff.save('diff.jpg')\n",
    "    return round(np.average(diff))/255*100\n",
    "lineg('coverphoto')\n",
    "lineg('coverphotoused')"
   ]
  },
  {
   "cell_type": "code",
   "execution_count": 160,
   "id": "b7f85b8f",
   "metadata": {},
   "outputs": [
    {
     "data": {
      "text/plain": [
       "0.0"
      ]
     },
     "execution_count": 160,
     "metadata": {},
     "output_type": "execute_result"
    }
   ],
   "source": [
    "lineg('coverphoto')\n",
    "lineg('coverphotoused')\n",
    "testimg('coverphoto', 'coverphoto')"
   ]
  },
  {
   "cell_type": "markdown",
   "id": "353bbb0d",
   "metadata": {},
   "source": [
    "import matplotlib.pyplot as plt\n",
    "from skimage import io, exposure, data\n",
    "from PIL import Image\n",
    "from matplotlib.image import imread\n",
    "def contrast(filename):\n",
    "    image = io.imread(filename + \"line.jpg\")\n",
    "    image_minmax_scaled = exposure.rescale_intensity(image)\n",
    "    image2 = np.where(image_minmax_scaled>100,255,0).astype(np.uint8)\n",
    "    plt.axis('off')\n",
    "    plt.imsave(filename + 'line' + '.jpg', image2)\n",
    "contrast('coverphoto')\n",
    "contrast('coverphotoused')"
   ]
  },
  {
   "cell_type": "code",
   "execution_count": null,
   "id": "59966b54",
   "metadata": {},
   "outputs": [],
   "source": []
  }
 ],
 "metadata": {
  "kernelspec": {
   "display_name": "Python 3 (ipykernel)",
   "language": "python",
   "name": "python3"
  },
  "language_info": {
   "codemirror_mode": {
    "name": "ipython",
    "version": 3
   },
   "file_extension": ".py",
   "mimetype": "text/x-python",
   "name": "python",
   "nbconvert_exporter": "python",
   "pygments_lexer": "ipython3",
   "version": "3.9.7"
  }
 },
 "nbformat": 4,
 "nbformat_minor": 5
}
