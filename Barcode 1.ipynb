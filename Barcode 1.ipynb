{
 "cells": [
  {
   "cell_type": "code",
   "execution_count": 73,
   "id": "ec20220f",
   "metadata": {},
   "outputs": [],
   "source": [
    "# Importing library\n",
    "import cv2\n",
    "from pyzbar.pyzbar import decode\n",
    "import urllib.request\n",
    "import requests\n",
    "\n",
    "\n",
    "# Make one method to decode the barcode\n",
    "def BarcodeReader(image):\n",
    "     \n",
    "    # read the image in numpy array using cv2\n",
    "    img = cv2.imread(image)\n",
    "      \n",
    "    # Decode the barcode image\n",
    "    detectedBarcodes = decode(img)\n",
    "      \n",
    "    # If not detected then print the message\n",
    "    if not detectedBarcodes:\n",
    "        print(\"Barcode Not Detected or your barcode is blank/corrupted!\")\n",
    "    else:\n",
    "       \n",
    "          # Traverse through all the detected barcodes in image\n",
    "        for barcode in detectedBarcodes: \n",
    "           \n",
    "            # Locate the barcode position in image\n",
    "            (x, y, w, h) = barcode.rect\n",
    "             \n",
    "            # Put the rectangle in image using\n",
    "            # cv2 to highlight the barcode\n",
    "            cv2.rectangle(img, (x-10, y-10),\n",
    "                          (x + w+10, y + h+10),\n",
    "                          (255, 0, 0), 2)\n",
    "             \n",
    "            if barcode.data!=\"\":\n",
    "               \n",
    "            # Print the barcode data\n",
    "                \n",
    "                return str(int(barcode.data))\n",
    "                 \n",
    "def ISBNreader(isbn):\n",
    "    return'https://d1w7fb2mkkr3kw.cloudfront.net/assets/images/book/lrg/' + str(int(isbn))[:4] + '/' + str(int(isbn))[4:8] + '/' + str(int(isbn)) + '.jpg'\n",
    "\n",
    "def save(weblink):\n",
    "    urllib.request.urlretrieve(weblink, \"coverphoto.jpg\")\n",
    "\n",
    "def price(isbn):\n",
    "    page = requests.get('https://www.bookdepository.com/search/' + str(isbn))\n",
    "    htmlcode1 = str(page.text)\n",
    "    start = htmlcode1.find('<p class=\"list-price\">')\n",
    "    htmlcode2 = htmlcode1[start+22:].strip()[15:].strip()\n",
    "    end = htmlcode2.find('</p>')\n",
    "    htmlcodesnippet = htmlcode2[:end]\n",
    "    return htmlcodesnippet"
   ]
  }
 ],
 "metadata": {
  "kernelspec": {
   "display_name": "Python 3 (ipykernel)",
   "language": "python",
   "name": "python3"
  },
  "language_info": {
   "codemirror_mode": {
    "name": "ipython",
    "version": 3
   },
   "file_extension": ".py",
   "mimetype": "text/x-python",
   "name": "python",
   "nbconvert_exporter": "python",
   "pygments_lexer": "ipython3",
   "version": "3.9.12"
  }
 },
 "nbformat": 4,
 "nbformat_minor": 5
}
